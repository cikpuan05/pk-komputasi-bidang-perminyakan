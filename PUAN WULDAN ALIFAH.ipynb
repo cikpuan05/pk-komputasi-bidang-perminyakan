{
 "cells": [
  {
   "cell_type": "code",
   "execution_count": 1,
   "metadata": {},
   "outputs": [
    {
     "name": "stdout",
     "output_type": "stream",
     "text": [
      "Volume reservoir adalah: 4396.0\n"
     ]
    }
   ],
   "source": [
    "# Deklarasi\n",
    "phi = 3.14\n",
    "r = 10\n",
    "h = 14\n",
    "\n",
    "# Rumus Volume reservoir\n",
    "v = phi * r * r * h\n",
    "print(\"Volume reservoir adalah:\",v)"
   ]
  },
  {
   "cell_type": "code",
   "execution_count": 2,
   "metadata": {},
   "outputs": [
    {
     "name": "stdout",
     "output_type": "stream",
     "text": [
      "Porositas batuan adalah: 52.27272727272727\n"
     ]
    }
   ],
   "source": [
    "# Deklarasi\n",
    "vp = 23\n",
    "vb = 44\n",
    "\n",
    "# Rumus Porositas batuan\n",
    "Ø = vp/vb * 100\n",
    "print(\"Porositas batuan adalah:\",Ø)"
   ]
  },
  {
   "cell_type": "code",
   "execution_count": 3,
   "metadata": {},
   "outputs": [
    {
     "name": "stdout",
     "output_type": "stream",
     "text": [
      "Flow rate minyak adalah: 3.7037037037037037\n"
     ]
    }
   ],
   "source": [
    "# Deklarasi\n",
    "v = 200\n",
    "t = 54\n",
    "\n",
    "# Rumus Porositas batuan\n",
    "Q = v/t\n",
    "print(\"Flow rate minyak adalah:\",Q)"
   ]
  },
  {
   "cell_type": "code",
   "execution_count": 4,
   "metadata": {},
   "outputs": [
    {
     "name": "stdout",
     "output_type": "stream",
     "text": [
      "Recovery Factor adalah: 6.254166666666666\n"
     ]
    }
   ],
   "source": [
    "# Deklarasi\n",
    "Np = 150\n",
    "N = 24\n",
    "m = 0.1\n",
    "\n",
    "# Rumus Recovery Factor\n",
    "RF = Np/N+(m/N)\n",
    "print(\"Recovery Factor adalah:\",RF)"
   ]
  },
  {
   "cell_type": "code",
   "execution_count": 5,
   "metadata": {},
   "outputs": [
    {
     "name": "stdout",
     "output_type": "stream",
     "text": [
      "Permeabilitas Efektif adalah: 1.7279999999999998\n"
     ]
    }
   ],
   "source": [
    "# Deklarasi\n",
    "n = 4\n",
    "m = 4\n",
    "Krw = 0.9\n",
    "Sw = 0.4\n",
    "Sor = 0.3\n",
    "\n",
    "# Rumus Permeabilitas Efektif\n",
    "kr = Krw * (Sw*n) * (1-Sor-Sw)*m\n",
    "print(\"Permeabilitas Efektif adalah:\", kr)"
   ]
  }
 ],
 "metadata": {
  "kernelspec": {
   "display_name": "Python 3",
   "language": "python",
   "name": "python3"
  },
  "language_info": {
   "codemirror_mode": {
    "name": "ipython",
    "version": 3
   },
   "file_extension": ".py",
   "mimetype": "text/x-python",
   "name": "python",
   "nbconvert_exporter": "python",
   "pygments_lexer": "ipython3",
   "version": "3.12.2"
  }
 },
 "nbformat": 4,
 "nbformat_minor": 2
}
